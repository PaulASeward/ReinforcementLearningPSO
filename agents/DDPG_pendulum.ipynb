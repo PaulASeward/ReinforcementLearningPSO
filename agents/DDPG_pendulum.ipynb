{
 "cells": [
  {
   "cell_type": "code",
   "metadata": {
    "ExecuteTime": {
     "end_time": "2024-12-04T10:26:55.811351Z",
     "start_time": "2024-12-04T10:26:53.807551Z"
    }
   },
   "source": [
    "\n",
    "from __future__ import absolute_import\n",
    "from __future__ import division\n",
    "from __future__ import print_function\n",
    "\n",
    "import os\n",
    "import time\n",
    "\n",
    "import tensorflow as tf\n",
    "\n",
    "from tf_agents.agents.ddpg import critic_network\n",
    "from tf_agents.agents.td3 import td3_agent\n",
    "from tf_agents.drivers import dynamic_step_driver\n",
    "from tf_agents.environments import parallel_py_environment\n",
    "from tf_agents.environments import suite_mujoco\n",
    "from tf_agents.environments import tf_py_environment\n",
    "from tf_agents.eval import metric_utils\n",
    "from tf_agents.metrics import tf_metrics\n",
    "from tf_agents.networks import actor_distribution_network\n",
    "from tf_agents.networks import normal_projection_network\n",
    "from tf_agents.policies import greedy_policy\n",
    "from tf_agents.policies import random_tf_policy\n",
    "from tf_agents.replay_buffers import tf_uniform_replay_buffer\n",
    "from tf_agents.utils import common\n",
    "from tf_agents.environments import suite_gym\n",
    "import tf_agents\n",
    "\n",
    "from absl import logging\n",
    "\n",
    "\n",
    "##https://github.com/tensorflow/agents/issues/275"
   ],
   "outputs": [
    {
     "name": "stderr",
     "output_type": "stream",
     "text": [
      "2024-12-04 06:26:54.104559: I tensorflow/core/util/port.cc:113] oneDNN custom operations are on. You may see slightly different numerical results due to floating-point round-off errors from different computation orders. To turn them off, set the environment variable `TF_ENABLE_ONEDNN_OPTS=0`.\n",
      "2024-12-04 06:26:54.106565: I external/local_tsl/tsl/cuda/cudart_stub.cc:31] Could not find cuda drivers on your machine, GPU will not be used.\n",
      "2024-12-04 06:26:54.141873: E external/local_xla/xla/stream_executor/cuda/cuda_dnn.cc:9261] Unable to register cuDNN factory: Attempting to register factory for plugin cuDNN when one has already been registered\n",
      "2024-12-04 06:26:54.141908: E external/local_xla/xla/stream_executor/cuda/cuda_fft.cc:607] Unable to register cuFFT factory: Attempting to register factory for plugin cuFFT when one has already been registered\n",
      "2024-12-04 06:26:54.143194: E external/local_xla/xla/stream_executor/cuda/cuda_blas.cc:1515] Unable to register cuBLAS factory: Attempting to register factory for plugin cuBLAS when one has already been registered\n",
      "2024-12-04 06:26:54.148486: I external/local_tsl/tsl/cuda/cudart_stub.cc:31] Could not find cuda drivers on your machine, GPU will not be used.\n",
      "2024-12-04 06:26:54.148932: I tensorflow/core/platform/cpu_feature_guard.cc:182] This TensorFlow binary is optimized to use available CPU instructions in performance-critical operations.\n",
      "To enable the following instructions: AVX2 AVX_VNNI FMA, in other operations, rebuild TensorFlow with the appropriate compiler flags.\n",
      "2024-12-04 06:26:54.771161: W tensorflow/compiler/tf2tensorrt/utils/py_utils.cc:38] TF-TRT Warning: Could not find TensorRT\n"
     ]
    }
   ],
   "execution_count": 1
  },
  {
   "cell_type": "code",
   "metadata": {
    "ExecuteTime": {
     "end_time": "2024-12-04T10:26:58.562840Z",
     "start_time": "2024-12-04T10:26:58.554015Z"
    }
   },
   "source": [
    "root_dir = \"DDPG_pendulum/\"\n",
    "env_name='Pendulum-v1'\n",
    "_DEFAULT_REWARD_SCALE = 1.\n",
    "eval_env_name=None\n",
    "env_load_fn=suite_mujoco.load,\n",
    "num_iterations=70000\n",
    "actor_fc_layers=(128, 128)\n",
    "critic_obs_fc_layers=None\n",
    "critic_action_fc_layers=None\n",
    "critic_joint_fc_layers=(128, 128)\n",
    "num_parallel_environments=1\n",
    "# Params for collect\n",
    "initial_collect_steps=100\n",
    "collect_steps_per_iteration=1\n",
    "replay_buffer_capacity=50000\n",
    "# Params for target update\n",
    "target_update_tau=0.005\n",
    "target_update_period=1\n",
    "# Params for train\n",
    "train_steps_per_iteration=1\n",
    "batch_size=64\n",
    "actor_learning_rate=3e-4\n",
    "critic_learning_rate=3e-4\n",
    "alpha_learning_rate=3e-4\n",
    "td_errors_loss_fn=tf.compat.v1.losses.mean_squared_error\n",
    "gamma=0.99\n",
    "reward_scale_factor=_DEFAULT_REWARD_SCALE\n",
    "gradient_clipping=None\n",
    "use_tf_functions=True\n",
    "# Params for eval\n",
    "num_eval_episodes = 10\n",
    "eval_interval=1000\n",
    "# Params for summaries and logging\n",
    "train_checkpoint_interval=10000\n",
    "policy_checkpoint_interval=5000\n",
    "rb_checkpoint_interval=50000\n",
    "log_interval=1000\n",
    "summary_interval=1000\n",
    "summaries_flush_secs=10\n",
    "debug_summaries=False\n",
    "summarize_grads_and_vars=False\n",
    "eval_metrics_callback=None\n",
    "\n",
    "logging.set_verbosity(logging.INFO)"
   ],
   "outputs": [],
   "execution_count": 2
  },
  {
   "cell_type": "code",
   "metadata": {
    "ExecuteTime": {
     "end_time": "2024-12-04T10:27:01.922420Z",
     "start_time": "2024-12-04T10:27:01.916647Z"
    }
   },
   "source": [
    "def normal_projection_net(action_spec,\n",
    "                          init_action_stddev=0.35,\n",
    "                          init_means_output_factor=0.1):\n",
    "  del init_action_stddev\n",
    "  return normal_projection_network.NormalProjectionNetwork(\n",
    "      action_spec,\n",
    "      mean_transform=None,\n",
    "      state_dependent_std=True,\n",
    "      init_means_output_factor=init_means_output_factor,\n",
    "      #std_transform=tf.nn.softplus,\n",
    "      scale_distribution=True)"
   ],
   "outputs": [],
   "execution_count": 3
  },
  {
   "cell_type": "code",
   "metadata": {
    "ExecuteTime": {
     "end_time": "2024-12-04T10:27:03.001592Z",
     "start_time": "2024-12-04T10:27:02.880387Z"
    }
   },
   "source": [
    "root_dir = os.path.expanduser(root_dir)\n",
    "\n",
    "summary_writer = tf.compat.v2.summary.create_file_writer(\n",
    "      root_dir, flush_millis=summaries_flush_secs * 1000)\n",
    "summary_writer.set_as_default()\n",
    "\n",
    "eval_metrics = [\n",
    "  tf_metrics.AverageReturnMetric(buffer_size=num_eval_episodes),\n",
    "  tf_metrics.AverageEpisodeLengthMetric(buffer_size=num_eval_episodes)\n",
    "]\n",
    "\n",
    "global_step = tf.compat.v1.train.get_or_create_global_step()\n",
    "\n",
    "py_env = suite_gym.load(env_name)\n",
    "\n",
    "tf_env = tf_py_environment.TFPyEnvironment(py_env)\n",
    "# create evaluation environment\n",
    "eval_env_name = eval_env_name or env_name\n",
    "eval_py_env = suite_gym.load(eval_env_name)\n",
    "eval_tf_env = tf_py_environment.TFPyEnvironment(eval_py_env)"
   ],
   "outputs": [
    {
     "name": "stderr",
     "output_type": "stream",
     "text": [
      "2024-12-04 06:27:02.890937: E external/local_xla/xla/stream_executor/cuda/cuda_driver.cc:274] failed call to cuInit: CUDA_ERROR_UNKNOWN: unknown error\n",
      "2024-12-04 06:27:02.890971: I external/local_xla/xla/stream_executor/cuda/cuda_diagnostics.cc:129] retrieving CUDA diagnostic information for host: stemble-XPS-15-9530\n",
      "2024-12-04 06:27:02.890979: I external/local_xla/xla/stream_executor/cuda/cuda_diagnostics.cc:136] hostname: stemble-XPS-15-9530\n",
      "2024-12-04 06:27:02.891133: I external/local_xla/xla/stream_executor/cuda/cuda_diagnostics.cc:159] libcuda reported version is: 535.183.1\n",
      "2024-12-04 06:27:02.891156: I external/local_xla/xla/stream_executor/cuda/cuda_diagnostics.cc:163] kernel reported version is: 535.183.1\n",
      "2024-12-04 06:27:02.891161: I external/local_xla/xla/stream_executor/cuda/cuda_diagnostics.cc:241] kernel version seems to match DSO: 535.183.1\n"
     ]
    }
   ],
   "execution_count": 4
  },
  {
   "cell_type": "code",
   "metadata": {
    "ExecuteTime": {
     "end_time": "2024-12-04T10:27:04.311683Z",
     "start_time": "2024-12-04T10:27:04.135471Z"
    }
   },
   "source": [
    "\n",
    "\n",
    "time_step_spec = tf_env.time_step_spec()\n",
    "observation_spec = time_step_spec.observation\n",
    "action_spec = tf_env.action_spec()\n",
    "\n",
    "\n",
    "actor_net = tf_agents.agents.ddpg.actor_network.ActorNetwork(\n",
    "    observation_spec, action_spec, fc_layer_params=actor_fc_layers,\n",
    "    \n",
    ")\n",
    "\n",
    "critic_net = tf_agents.agents.ddpg.critic_network.CriticNetwork(\n",
    "    (observation_spec, action_spec), joint_fc_layer_params=critic_joint_fc_layers)\n",
    "\n",
    "\"\"\"actor_net = actor_distribution_network.ActorDistributionNetwork(\n",
    "    observation_spec,\n",
    "    action_spec,\n",
    "    fc_layer_params=actor_fc_layers,\n",
    "    continuous_projection_net=normal_projection_net)\n",
    "\n",
    "critic_net = critic_network.CriticNetwork(\n",
    "    (observation_spec, action_spec),\n",
    "    observation_fc_layer_params=critic_obs_fc_layers,\n",
    "    action_fc_layer_params=critic_action_fc_layers,\n",
    "    joint_fc_layer_params=critic_joint_fc_layers)\n",
    "\"\"\"\n",
    "\n",
    "tf_agent = tf_agents.agents.DdpgAgent(\n",
    "    time_step_spec,\n",
    "    action_spec,\n",
    "    actor_network=actor_net,\n",
    "    critic_network=critic_net,\n",
    "    actor_optimizer=tf.compat.v1.train.AdamOptimizer(\n",
    "        learning_rate=actor_learning_rate),\n",
    "    critic_optimizer=tf.compat.v1.train.AdamOptimizer(\n",
    "        learning_rate=critic_learning_rate),\n",
    "    #alpha_optimizer=tf.compat.v1.train.AdamOptimizer(\n",
    "     #   learning_rate=alpha_learning_rate),\n",
    "    target_update_tau=target_update_tau,\n",
    "    target_update_period=target_update_period,\n",
    "    td_errors_loss_fn=td_errors_loss_fn,\n",
    "    gamma=gamma,\n",
    "    reward_scale_factor=reward_scale_factor,\n",
    "    gradient_clipping=gradient_clipping,\n",
    "    debug_summaries=debug_summaries,\n",
    "    summarize_grads_and_vars=summarize_grads_and_vars,\n",
    "    train_step_counter=global_step)\n",
    "tf_agent.initialize()"
   ],
   "outputs": [],
   "execution_count": 5
  },
  {
   "cell_type": "code",
   "metadata": {
    "ExecuteTime": {
     "end_time": "2024-12-04T10:27:06.077911Z",
     "start_time": "2024-12-04T10:27:06.021723Z"
    }
   },
   "source": [
    "\n",
    "\n",
    "# Make the replay buffer.\n",
    "replay_buffer = tf_uniform_replay_buffer.TFUniformReplayBuffer(\n",
    "    data_spec=tf_agent.collect_data_spec,\n",
    "    batch_size=num_parallel_environments,\n",
    "    max_length=replay_buffer_capacity)\n",
    "replay_observer = [replay_buffer.add_batch]\n",
    "\n",
    "env_steps = tf_metrics.EnvironmentSteps(prefix='Train')\n",
    "\n",
    "average_return = tf_metrics.AverageReturnMetric(\n",
    "    prefix='Train',\n",
    "    buffer_size=num_eval_episodes,\n",
    "    batch_size=tf_env.batch_size)\n",
    "\n",
    "train_metrics = [\n",
    "    tf_metrics.NumberOfEpisodes(prefix='Train'),\n",
    "    env_steps,\n",
    "    average_return,\n",
    "    tf_metrics.AverageEpisodeLengthMetric(\n",
    "        prefix='Train',\n",
    "        buffer_size=num_eval_episodes,\n",
    "        batch_size=tf_env.batch_size),\n",
    "]\n",
    "\n",
    "eval_policy = greedy_policy.GreedyPolicy(tf_agent.policy)\n",
    "\n",
    "initial_collect_policy = random_tf_policy.RandomTFPolicy(\n",
    "    tf_env.time_step_spec(), tf_env.action_spec())\n",
    "\n",
    "collect_policy = tf_agent.collect_policy\n",
    "\n",
    "train_checkpointer = common.Checkpointer(\n",
    "    ckpt_dir=os.path.join(root_dir, 'train'),\n",
    "    agent=tf_agent,\n",
    "    global_step=global_step,\n",
    "    metrics=metric_utils.MetricsGroup(train_metrics, 'train_metrics'))\n",
    "policy_checkpointer = common.Checkpointer(\n",
    "    ckpt_dir=os.path.join(root_dir, 'policy'),\n",
    "    policy=eval_policy,\n",
    "    global_step=global_step)\n",
    "rb_checkpointer = common.Checkpointer(\n",
    "    ckpt_dir=os.path.join(root_dir, 'replay_buffer'),\n",
    "    max_to_keep=1,\n",
    "    replay_buffer=replay_buffer)\n",
    "\n",
    "train_checkpointer.initialize_or_restore()\n",
    "\n",
    "rb_checkpointer.initialize_or_restore()\n",
    "\n",
    "initial_collect_driver = dynamic_step_driver.DynamicStepDriver(\n",
    "    tf_env,\n",
    "    initial_collect_policy,\n",
    "    observers=replay_observer + train_metrics,\n",
    "    num_steps=initial_collect_steps)\n",
    "\n",
    "collect_driver = dynamic_step_driver.DynamicStepDriver(\n",
    "    tf_env,\n",
    "    collect_policy,\n",
    "    observers=replay_observer + train_metrics,\n",
    "    num_steps=collect_steps_per_iteration)\n",
    "\n",
    "initial_collect_driver.run = common.function(initial_collect_driver.run)\n",
    "collect_driver.run = common.function(collect_driver.run)\n",
    "tf_agent.train = common.function(tf_agent.train)"
   ],
   "outputs": [
    {
     "name": "stderr",
     "output_type": "stream",
     "text": [
      "INFO:absl:No checkpoint available at DDPG_pendulum/train\n",
      "INFO:absl:No checkpoint available at DDPG_pendulum/policy\n",
      "INFO:absl:No checkpoint available at DDPG_pendulum/replay_buffer\n"
     ]
    }
   ],
   "execution_count": 6
  },
  {
   "cell_type": "code",
   "metadata": {
    "ExecuteTime": {
     "end_time": "2024-12-04T10:27:14.617926Z",
     "start_time": "2024-12-04T10:27:13.787590Z"
    }
   },
   "source": [
    "# Collect initial replay data.\n",
    "if env_steps.result() == 0 or replay_buffer.num_frames() == 0:\n",
    "    logging.info(\n",
    "      'Initializing replay buffer by collecting experience for %d steps'\n",
    "      'with a random policy.', initial_collect_steps)\n",
    "    initial_collect_driver.run()"
   ],
   "outputs": [
    {
     "name": "stderr",
     "output_type": "stream",
     "text": [
      "INFO:absl:Initializing replay buffer by collecting experience for 100 stepswith a random policy.\n"
     ]
    }
   ],
   "execution_count": 7
  },
  {
   "cell_type": "code",
   "metadata": {
    "ExecuteTime": {
     "end_time": "2024-12-04T10:27:28.359898Z",
     "start_time": "2024-12-04T10:27:28.356047Z"
    }
   },
   "source": [
    "def train_step():\n",
    "  experience, _ = next(iterator)\n",
    "  return tf_agent.train(experience)\n",
    "\n"
   ],
   "outputs": [],
   "execution_count": 8
  },
  {
   "cell_type": "code",
   "metadata": {
    "ExecuteTime": {
     "end_time": "2024-12-04T10:27:32.553112Z",
     "start_time": "2024-12-04T10:27:30.149328Z"
    }
   },
   "source": [
    "results = metric_utils.eager_compute(\n",
    "    eval_metrics,\n",
    "    eval_tf_env,\n",
    "    eval_policy,\n",
    "    num_episodes=num_eval_episodes,\n",
    "    train_step=env_steps.result(),\n",
    "    summary_writer=summary_writer,\n",
    "    summary_prefix='Eval',\n",
    ")\n",
    "if eval_metrics_callback is not None:\n",
    "  eval_metrics_callback(results, env_steps.result())\n",
    "metric_utils.log_metrics(eval_metrics)\n",
    "\n",
    "time_step = None\n",
    "policy_state = collect_policy.get_initial_state(tf_env.batch_size)\n",
    "\n",
    "time_acc = 0\n",
    "env_steps_before = env_steps.result().numpy()\n",
    "\n",
    "# Dataset generates trajectories with shape [Bx2x...]\n",
    "dataset = replay_buffer.as_dataset(\n",
    "    num_parallel_calls=3, sample_batch_size=batch_size,\n",
    "    num_steps=2).prefetch(3)\n",
    "iterator = iter(dataset)\n",
    "\n",
    "train_step = common.function(train_step)"
   ],
   "outputs": [
    {
     "name": "stderr",
     "output_type": "stream",
     "text": [
      "INFO:absl: \n",
      "\t\t AverageReturn = -1266.3165283203125\n",
      "\t\t AverageEpisodeLength = 200.0\n"
     ]
    },
    {
     "name": "stdout",
     "output_type": "stream",
     "text": [
      "WARNING:tensorflow:From /home/paul/.local/lib/python3.10/site-packages/tensorflow/python/autograph/impl/api.py:377: ReplayBuffer.get_next (from tf_agents.replay_buffers.replay_buffer) is deprecated and will be removed in a future version.\n",
      "Instructions for updating:\n",
      "Use `as_dataset(..., single_deterministic_pass=False) instead.\n"
     ]
    },
    {
     "name": "stderr",
     "output_type": "stream",
     "text": [
      "WARNING:tensorflow:From /home/paul/.local/lib/python3.10/site-packages/tensorflow/python/autograph/impl/api.py:377: ReplayBuffer.get_next (from tf_agents.replay_buffers.replay_buffer) is deprecated and will be removed in a future version.\n",
      "Instructions for updating:\n",
      "Use `as_dataset(..., single_deterministic_pass=False) instead.\n"
     ]
    }
   ],
   "execution_count": 9
  },
  {
   "cell_type": "code",
   "metadata": {
    "scrolled": true,
    "ExecuteTime": {
     "end_time": "2024-12-04T10:27:58.009558Z",
     "start_time": "2024-12-04T10:27:35.819718Z"
    }
   },
   "source": [
    "for _ in range(num_iterations):\n",
    "  start_time = time.time()\n",
    "  time_step, policy_state = collect_driver.run(\n",
    "      time_step=time_step,\n",
    "      policy_state=policy_state,\n",
    "  )\n",
    "  for _ in range(train_steps_per_iteration):\n",
    "    train_step()\n",
    "  time_acc += time.time() - start_time\n",
    "\n",
    "  if global_step.numpy() % log_interval == 0:\n",
    "    logging.info('env steps = %d, average return = %f', env_steps.result(),\n",
    "                 average_return.result())\n",
    "    env_steps_per_sec = (env_steps.result().numpy() -\n",
    "                         env_steps_before) / time_acc\n",
    "    logging.info('%.3f env steps/sec', env_steps_per_sec)\n",
    "    tf.compat.v2.summary.scalar(\n",
    "        name='env_steps_per_sec',\n",
    "        data=env_steps_per_sec,\n",
    "        step=env_steps.result())\n",
    "    time_acc = 0\n",
    "    env_steps_before = env_steps.result().numpy()\n",
    "\n",
    "  for train_metric in train_metrics:\n",
    "    train_metric.tf_summaries(train_step=env_steps.result())\n",
    "\n",
    "  if global_step.numpy() % eval_interval == 0:\n",
    "    results = metric_utils.eager_compute(\n",
    "        eval_metrics,\n",
    "        eval_tf_env,\n",
    "        eval_policy,\n",
    "        num_episodes=num_eval_episodes,\n",
    "        train_step=env_steps.result(),\n",
    "        summary_writer=summary_writer,\n",
    "        summary_prefix='Eval',\n",
    "    )\n",
    "    if eval_metrics_callback is not None:\n",
    "      eval_metrics_callback(results, env_steps.result())\n",
    "    metric_utils.log_metrics(eval_metrics)\n",
    "    global_step_val = global_step.numpy()\n",
    "    if global_step_val % train_checkpoint_interval == 0:\n",
    "        train_checkpointer.save(global_step=global_step_val)\n",
    "    if global_step_val % policy_checkpoint_interval == 0:\n",
    "        policy_checkpointer.save(global_step=global_step_val)\n",
    "    if global_step_val % rb_checkpoint_interval == 0:\n",
    "        rb_checkpointer.save(global_step=global_step_val)\n",
    "\n",
    "\n"
   ],
   "outputs": [
    {
     "name": "stderr",
     "output_type": "stream",
     "text": [
      "INFO:absl:env steps = 1100, average return = -1282.936768\n",
      "INFO:absl:202.169 env steps/sec\n",
      "INFO:absl: \n",
      "\t\t AverageReturn = -1589.802978515625\n",
      "\t\t AverageEpisodeLength = 200.0\n",
      "INFO:absl:env steps = 2100, average return = -1457.872314\n",
      "INFO:absl:246.117 env steps/sec\n",
      "INFO:absl: \n",
      "\t\t AverageReturn = -1425.379638671875\n",
      "\t\t AverageEpisodeLength = 200.0\n"
     ]
    },
    {
     "ename": "KeyboardInterrupt",
     "evalue": "",
     "output_type": "error",
     "traceback": [
      "\u001B[0;31m---------------------------------------------------------------------------\u001B[0m",
      "\u001B[0;31mKeyboardInterrupt\u001B[0m                         Traceback (most recent call last)",
      "\u001B[0;32m/tmp/ipykernel_644169/651617569.py\u001B[0m in \u001B[0;36m<cell line: 1>\u001B[0;34m()\u001B[0m\n\u001B[1;32m     25\u001B[0m     \u001B[0mtrain_metric\u001B[0m\u001B[0;34m.\u001B[0m\u001B[0mtf_summaries\u001B[0m\u001B[0;34m(\u001B[0m\u001B[0mtrain_step\u001B[0m\u001B[0;34m=\u001B[0m\u001B[0menv_steps\u001B[0m\u001B[0;34m.\u001B[0m\u001B[0mresult\u001B[0m\u001B[0;34m(\u001B[0m\u001B[0;34m)\u001B[0m\u001B[0;34m)\u001B[0m\u001B[0;34m\u001B[0m\u001B[0;34m\u001B[0m\u001B[0m\n\u001B[1;32m     26\u001B[0m \u001B[0;34m\u001B[0m\u001B[0m\n\u001B[0;32m---> 27\u001B[0;31m   \u001B[0;32mif\u001B[0m \u001B[0mglobal_step\u001B[0m\u001B[0;34m.\u001B[0m\u001B[0mnumpy\u001B[0m\u001B[0;34m(\u001B[0m\u001B[0;34m)\u001B[0m \u001B[0;34m%\u001B[0m \u001B[0meval_interval\u001B[0m \u001B[0;34m==\u001B[0m \u001B[0;36m0\u001B[0m\u001B[0;34m:\u001B[0m\u001B[0;34m\u001B[0m\u001B[0;34m\u001B[0m\u001B[0m\n\u001B[0m\u001B[1;32m     28\u001B[0m     results = metric_utils.eager_compute(\n\u001B[1;32m     29\u001B[0m         \u001B[0meval_metrics\u001B[0m\u001B[0;34m,\u001B[0m\u001B[0;34m\u001B[0m\u001B[0;34m\u001B[0m\u001B[0m\n",
      "\u001B[0;32m~/.local/lib/python3.10/site-packages/tensorflow/python/ops/resource_variable_ops.py\u001B[0m in \u001B[0;36mnumpy\u001B[0;34m(self)\u001B[0m\n\u001B[1;32m    687\u001B[0m   \u001B[0;32mdef\u001B[0m \u001B[0mnumpy\u001B[0m\u001B[0;34m(\u001B[0m\u001B[0mself\u001B[0m\u001B[0;34m)\u001B[0m\u001B[0;34m:\u001B[0m\u001B[0;34m\u001B[0m\u001B[0;34m\u001B[0m\u001B[0m\n\u001B[1;32m    688\u001B[0m     \u001B[0;32mif\u001B[0m \u001B[0mcontext\u001B[0m\u001B[0;34m.\u001B[0m\u001B[0mexecuting_eagerly\u001B[0m\u001B[0;34m(\u001B[0m\u001B[0;34m)\u001B[0m\u001B[0;34m:\u001B[0m\u001B[0;34m\u001B[0m\u001B[0;34m\u001B[0m\u001B[0m\n\u001B[0;32m--> 689\u001B[0;31m       \u001B[0;32mreturn\u001B[0m \u001B[0mself\u001B[0m\u001B[0;34m.\u001B[0m\u001B[0mread_value\u001B[0m\u001B[0;34m(\u001B[0m\u001B[0;34m)\u001B[0m\u001B[0;34m.\u001B[0m\u001B[0mnumpy\u001B[0m\u001B[0;34m(\u001B[0m\u001B[0;34m)\u001B[0m\u001B[0;34m\u001B[0m\u001B[0;34m\u001B[0m\u001B[0m\n\u001B[0m\u001B[1;32m    690\u001B[0m     raise NotImplementedError(\n\u001B[1;32m    691\u001B[0m         \"numpy() is only available when eager execution is enabled.\")\n",
      "\u001B[0;32m~/.local/lib/python3.10/site-packages/tensorflow/python/ops/resource_variable_ops.py\u001B[0m in \u001B[0;36mread_value\u001B[0;34m(self)\u001B[0m\n\u001B[1;32m    840\u001B[0m     \u001B[0;31m# Return an identity so it can get placed on whatever device the context\u001B[0m\u001B[0;34m\u001B[0m\u001B[0;34m\u001B[0m\u001B[0m\n\u001B[1;32m    841\u001B[0m     \u001B[0;31m# specifies instead of the device where the variable is.\u001B[0m\u001B[0;34m\u001B[0m\u001B[0;34m\u001B[0m\u001B[0m\n\u001B[0;32m--> 842\u001B[0;31m     \u001B[0;32mreturn\u001B[0m \u001B[0marray_ops\u001B[0m\u001B[0;34m.\u001B[0m\u001B[0midentity\u001B[0m\u001B[0;34m(\u001B[0m\u001B[0mvalue\u001B[0m\u001B[0;34m)\u001B[0m\u001B[0;34m\u001B[0m\u001B[0;34m\u001B[0m\u001B[0m\n\u001B[0m\u001B[1;32m    843\u001B[0m \u001B[0;34m\u001B[0m\u001B[0m\n\u001B[1;32m    844\u001B[0m   \u001B[0;32mdef\u001B[0m \u001B[0mread_value_no_copy\u001B[0m\u001B[0;34m(\u001B[0m\u001B[0mself\u001B[0m\u001B[0;34m)\u001B[0m\u001B[0;34m:\u001B[0m\u001B[0;34m\u001B[0m\u001B[0;34m\u001B[0m\u001B[0m\n",
      "\u001B[0;32m~/.local/lib/python3.10/site-packages/tensorflow/python/ops/weak_tensor_ops.py\u001B[0m in \u001B[0;36mwrapper\u001B[0;34m(*args, **kwargs)\u001B[0m\n\u001B[1;32m     86\u001B[0m   \u001B[0;32mdef\u001B[0m \u001B[0mwrapper\u001B[0m\u001B[0;34m(\u001B[0m\u001B[0;34m*\u001B[0m\u001B[0margs\u001B[0m\u001B[0;34m,\u001B[0m \u001B[0;34m**\u001B[0m\u001B[0mkwargs\u001B[0m\u001B[0;34m)\u001B[0m\u001B[0;34m:\u001B[0m\u001B[0;34m\u001B[0m\u001B[0;34m\u001B[0m\u001B[0m\n\u001B[1;32m     87\u001B[0m     \u001B[0;32mif\u001B[0m \u001B[0;32mnot\u001B[0m \u001B[0mops\u001B[0m\u001B[0;34m.\u001B[0m\u001B[0mis_auto_dtype_conversion_enabled\u001B[0m\u001B[0;34m(\u001B[0m\u001B[0;34m)\u001B[0m\u001B[0;34m:\u001B[0m\u001B[0;34m\u001B[0m\u001B[0;34m\u001B[0m\u001B[0m\n\u001B[0;32m---> 88\u001B[0;31m       \u001B[0;32mreturn\u001B[0m \u001B[0mop\u001B[0m\u001B[0;34m(\u001B[0m\u001B[0;34m*\u001B[0m\u001B[0margs\u001B[0m\u001B[0;34m,\u001B[0m \u001B[0;34m**\u001B[0m\u001B[0mkwargs\u001B[0m\u001B[0;34m)\u001B[0m\u001B[0;34m\u001B[0m\u001B[0;34m\u001B[0m\u001B[0m\n\u001B[0m\u001B[1;32m     89\u001B[0m     \u001B[0mbound_arguments\u001B[0m \u001B[0;34m=\u001B[0m \u001B[0msignature\u001B[0m\u001B[0;34m.\u001B[0m\u001B[0mbind\u001B[0m\u001B[0;34m(\u001B[0m\u001B[0;34m*\u001B[0m\u001B[0margs\u001B[0m\u001B[0;34m,\u001B[0m \u001B[0;34m**\u001B[0m\u001B[0mkwargs\u001B[0m\u001B[0;34m)\u001B[0m\u001B[0;34m\u001B[0m\u001B[0;34m\u001B[0m\u001B[0m\n\u001B[1;32m     90\u001B[0m     \u001B[0mbound_arguments\u001B[0m\u001B[0;34m.\u001B[0m\u001B[0mapply_defaults\u001B[0m\u001B[0;34m(\u001B[0m\u001B[0;34m)\u001B[0m\u001B[0;34m\u001B[0m\u001B[0;34m\u001B[0m\u001B[0m\n",
      "\u001B[0;32m~/.local/lib/python3.10/site-packages/tensorflow/python/util/traceback_utils.py\u001B[0m in \u001B[0;36merror_handler\u001B[0;34m(*args, **kwargs)\u001B[0m\n\u001B[1;32m    148\u001B[0m     \u001B[0mfiltered_tb\u001B[0m \u001B[0;34m=\u001B[0m \u001B[0;32mNone\u001B[0m\u001B[0;34m\u001B[0m\u001B[0;34m\u001B[0m\u001B[0m\n\u001B[1;32m    149\u001B[0m     \u001B[0;32mtry\u001B[0m\u001B[0;34m:\u001B[0m\u001B[0;34m\u001B[0m\u001B[0;34m\u001B[0m\u001B[0m\n\u001B[0;32m--> 150\u001B[0;31m       \u001B[0;32mreturn\u001B[0m \u001B[0mfn\u001B[0m\u001B[0;34m(\u001B[0m\u001B[0;34m*\u001B[0m\u001B[0margs\u001B[0m\u001B[0;34m,\u001B[0m \u001B[0;34m**\u001B[0m\u001B[0mkwargs\u001B[0m\u001B[0;34m)\u001B[0m\u001B[0;34m\u001B[0m\u001B[0;34m\u001B[0m\u001B[0m\n\u001B[0m\u001B[1;32m    151\u001B[0m     \u001B[0;32mexcept\u001B[0m \u001B[0mException\u001B[0m \u001B[0;32mas\u001B[0m \u001B[0me\u001B[0m\u001B[0;34m:\u001B[0m\u001B[0;34m\u001B[0m\u001B[0;34m\u001B[0m\u001B[0m\n\u001B[1;32m    152\u001B[0m       \u001B[0mfiltered_tb\u001B[0m \u001B[0;34m=\u001B[0m \u001B[0m_process_traceback_frames\u001B[0m\u001B[0;34m(\u001B[0m\u001B[0me\u001B[0m\u001B[0;34m.\u001B[0m\u001B[0m__traceback__\u001B[0m\u001B[0;34m)\u001B[0m\u001B[0;34m\u001B[0m\u001B[0;34m\u001B[0m\u001B[0m\n",
      "\u001B[0;32m~/.local/lib/python3.10/site-packages/tensorflow/python/util/dispatch.py\u001B[0m in \u001B[0;36mop_dispatch_handler\u001B[0;34m(*args, **kwargs)\u001B[0m\n\u001B[1;32m   1258\u001B[0m       \u001B[0;31m# Fallback dispatch system (dispatch v1):\u001B[0m\u001B[0;34m\u001B[0m\u001B[0;34m\u001B[0m\u001B[0m\n\u001B[1;32m   1259\u001B[0m       \u001B[0;32mtry\u001B[0m\u001B[0;34m:\u001B[0m\u001B[0;34m\u001B[0m\u001B[0;34m\u001B[0m\u001B[0m\n\u001B[0;32m-> 1260\u001B[0;31m         \u001B[0;32mreturn\u001B[0m \u001B[0mdispatch_target\u001B[0m\u001B[0;34m(\u001B[0m\u001B[0;34m*\u001B[0m\u001B[0margs\u001B[0m\u001B[0;34m,\u001B[0m \u001B[0;34m**\u001B[0m\u001B[0mkwargs\u001B[0m\u001B[0;34m)\u001B[0m\u001B[0;34m\u001B[0m\u001B[0;34m\u001B[0m\u001B[0m\n\u001B[0m\u001B[1;32m   1261\u001B[0m       \u001B[0;32mexcept\u001B[0m \u001B[0;34m(\u001B[0m\u001B[0mTypeError\u001B[0m\u001B[0;34m,\u001B[0m \u001B[0mValueError\u001B[0m\u001B[0;34m)\u001B[0m\u001B[0;34m:\u001B[0m\u001B[0;34m\u001B[0m\u001B[0;34m\u001B[0m\u001B[0m\n\u001B[1;32m   1262\u001B[0m         \u001B[0;31m# Note: convert_to_eager_tensor currently raises a ValueError, not a\u001B[0m\u001B[0;34m\u001B[0m\u001B[0;34m\u001B[0m\u001B[0m\n",
      "\u001B[0;32m~/.local/lib/python3.10/site-packages/tensorflow/python/ops/array_ops.py\u001B[0m in \u001B[0;36midentity\u001B[0;34m(input, name)\u001B[0m\n\u001B[1;32m    303\u001B[0m   \"\"\"\n\u001B[1;32m    304\u001B[0m   \u001B[0;31m# Don't expand ResourceVariables, so identity(variable) will return a Tensor.\u001B[0m\u001B[0;34m\u001B[0m\u001B[0;34m\u001B[0m\u001B[0m\n\u001B[0;32m--> 305\u001B[0;31m   if (isinstance(input, composite_tensor.CompositeTensor) and\n\u001B[0m\u001B[1;32m    306\u001B[0m       not _pywrap_utils.IsResourceVariable(input)):\n\u001B[1;32m    307\u001B[0m     \u001B[0;32mreturn\u001B[0m \u001B[0mnest\u001B[0m\u001B[0;34m.\u001B[0m\u001B[0mmap_structure\u001B[0m\u001B[0;34m(\u001B[0m\u001B[0midentity\u001B[0m\u001B[0;34m,\u001B[0m \u001B[0minput\u001B[0m\u001B[0;34m,\u001B[0m \u001B[0mexpand_composites\u001B[0m\u001B[0;34m=\u001B[0m\u001B[0;32mTrue\u001B[0m\u001B[0;34m)\u001B[0m\u001B[0;34m\u001B[0m\u001B[0;34m\u001B[0m\u001B[0m\n",
      "\u001B[0;32m/usr/lib/python3.10/abc.py\u001B[0m in \u001B[0;36m__instancecheck__\u001B[0;34m(cls, instance)\u001B[0m\n\u001B[1;32m    117\u001B[0m         \u001B[0;32mdef\u001B[0m \u001B[0m__instancecheck__\u001B[0m\u001B[0;34m(\u001B[0m\u001B[0mcls\u001B[0m\u001B[0;34m,\u001B[0m \u001B[0minstance\u001B[0m\u001B[0;34m)\u001B[0m\u001B[0;34m:\u001B[0m\u001B[0;34m\u001B[0m\u001B[0;34m\u001B[0m\u001B[0m\n\u001B[1;32m    118\u001B[0m             \u001B[0;34m\"\"\"Override for isinstance(instance, cls).\"\"\"\u001B[0m\u001B[0;34m\u001B[0m\u001B[0;34m\u001B[0m\u001B[0m\n\u001B[0;32m--> 119\u001B[0;31m             \u001B[0;32mreturn\u001B[0m \u001B[0m_abc_instancecheck\u001B[0m\u001B[0;34m(\u001B[0m\u001B[0mcls\u001B[0m\u001B[0;34m,\u001B[0m \u001B[0minstance\u001B[0m\u001B[0;34m)\u001B[0m\u001B[0;34m\u001B[0m\u001B[0;34m\u001B[0m\u001B[0m\n\u001B[0m\u001B[1;32m    120\u001B[0m \u001B[0;34m\u001B[0m\u001B[0m\n\u001B[1;32m    121\u001B[0m         \u001B[0;32mdef\u001B[0m \u001B[0m__subclasscheck__\u001B[0m\u001B[0;34m(\u001B[0m\u001B[0mcls\u001B[0m\u001B[0;34m,\u001B[0m \u001B[0msubclass\u001B[0m\u001B[0;34m)\u001B[0m\u001B[0;34m:\u001B[0m\u001B[0;34m\u001B[0m\u001B[0;34m\u001B[0m\u001B[0m\n",
      "\u001B[0;31mKeyboardInterrupt\u001B[0m: "
     ]
    }
   ],
   "execution_count": 10
  },
  {
   "metadata": {},
   "cell_type": "code",
   "outputs": [],
   "execution_count": null,
   "source": ""
  }
 ],
 "metadata": {
  "kernelspec": {
   "display_name": "Python 3 (ipykernel)",
   "language": "python",
   "name": "python3"
  },
  "language_info": {
   "codemirror_mode": {
    "name": "ipython",
    "version": 2
   },
   "file_extension": ".py",
   "mimetype": "text/x-python",
   "name": "python",
   "nbconvert_exporter": "python",
   "pygments_lexer": "ipython2",
   "version": "2.7.17"
  }
 },
 "nbformat": 4,
 "nbformat_minor": 4
}
